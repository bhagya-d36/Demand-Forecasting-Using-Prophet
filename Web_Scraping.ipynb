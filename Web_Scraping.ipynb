{
 "cells": [
  {
   "cell_type": "markdown",
   "id": "e4611071",
   "metadata": {},
   "source": [
    "# Web Scraping"
   ]
  },
  {
   "cell_type": "code",
   "execution_count": 1,
   "id": "153f8ea6",
   "metadata": {},
   "outputs": [],
   "source": [
    "# Uncomment the following line to install required packages\n",
    "# !pip install re, cloudscraper, requests, beautifulsoup4, pandas\n",
    "\n",
    "# Importing the necessary libraries\n",
    "import re\n",
    "import requests\n",
    "import cloudscraper\n",
    "from bs4 import BeautifulSoup\n",
    "import pandas as pd"
   ]
  },
  {
   "cell_type": "code",
   "execution_count": 2,
   "id": "45908a63",
   "metadata": {},
   "outputs": [
    {
     "name": "stdout",
     "output_type": "stream",
     "text": [
      "Failed to retrieve page. Status code: 403\n"
     ]
    }
   ],
   "source": [
    "url = \"https://www.educationcounts.govt.nz/find-school/school/profile?school=69\"\n",
    "response = requests.get(url)\n",
    "\n",
    "# Checking if the request was successful\n",
    "if response.status_code == 200:\n",
    "    html_content = response.text\n",
    "    print(\"Successfully fetched the page content!\")\n",
    "else:\n",
    "    print(f\"Failed to retrieve page. Status code: {response.status_code}\")"
   ]
  },
  {
   "cell_type": "markdown",
   "id": "ffda666e",
   "metadata": {},
   "source": [
    "The server returned a 403 status code because it likely blocked the requests library"
   ]
  },
  {
   "cell_type": "code",
   "execution_count": 3,
   "id": "9741b728",
   "metadata": {},
   "outputs": [
    {
     "name": "stdout",
     "output_type": "stream",
     "text": [
      "Successfully fetched the page content!\n"
     ]
    }
   ],
   "source": [
    "url = \"https://www.educationcounts.govt.nz/find-school/school/profile?school=69\"\n",
    "\n",
    "# Initializing the cloudscraper\n",
    "scraper = cloudscraper.create_scraper()\n",
    "response = scraper.get(url)\n",
    "\n",
    "# Checking if the request was successful\n",
    "if response.status_code == 200:\n",
    "    html_content = response.text\n",
    "    print(\"Successfully fetched the page content!\")\n",
    "else:\n",
    "    print(f\"Failed to retrieve page. Status code: {response.status_code}\")"
   ]
  },
  {
   "cell_type": "markdown",
   "id": "30628177",
   "metadata": {},
   "source": [
    "Using cloudscraper bypasses the anti-bot mechanisms and successfully fetches the HTML content of the URL."
   ]
  },
  {
   "cell_type": "code",
   "execution_count": 4,
   "id": "f037b45d",
   "metadata": {},
   "outputs": [],
   "source": [
    "# Initializing the cloudscraper\n",
    "scraper = cloudscraper.create_scraper()\n",
    "\n",
    "# Defining the URLs for each school\n",
    "urls = [\n",
    "    {\n",
    "        \"profile_url\": \"https://www.educationcounts.govt.nz/find-school/school/profile?district=&region=&school=69\",\n",
    "        \"roll_url\": \"https://www.educationcounts.govt.nz/find-school/school/population/year?district=&region=&school=69\"\n",
    "    },\n",
    "    {\n",
    "        \"profile_url\": \"https://www.educationcounts.govt.nz/find-school/school/profile?school=151&district=24&region=4\",\n",
    "        \"roll_url\": \"https://www.educationcounts.govt.nz/find-school/school/population/year?district=24&region=4&school=151\"\n",
    "    },\n",
    "    {\n",
    "        \"profile_url\": \"https://www.educationcounts.govt.nz/find-school/school/profile?district=7619&region=2&school=6929\",\n",
    "        \"roll_url\": \"https://www.educationcounts.govt.nz/find-school/school/population/year?district=7619&region=2&school=6929\"\n",
    "    }\n",
    "]"
   ]
  },
  {
   "cell_type": "code",
   "execution_count": 5,
   "id": "0383c752",
   "metadata": {},
   "outputs": [
    {
     "data": {
      "text/html": [
       "<div>\n",
       "<style scoped>\n",
       "    .dataframe tbody tr th:only-of-type {\n",
       "        vertical-align: middle;\n",
       "    }\n",
       "\n",
       "    .dataframe tbody tr th {\n",
       "        vertical-align: top;\n",
       "    }\n",
       "\n",
       "    .dataframe thead th {\n",
       "        text-align: right;\n",
       "    }\n",
       "</style>\n",
       "<table border=\"1\" class=\"dataframe\">\n",
       "  <thead>\n",
       "    <tr style=\"text-align: right;\">\n",
       "      <th></th>\n",
       "      <th>School Name</th>\n",
       "      <th>Number of Students</th>\n",
       "      <th>Years Level Catered</th>\n",
       "      <th>Gender</th>\n",
       "    </tr>\n",
       "  </thead>\n",
       "  <tbody>\n",
       "    <tr>\n",
       "      <th>0</th>\n",
       "      <td>Mt Albert Grammar School</td>\n",
       "      <td>3,498</td>\n",
       "      <td>Year 9-15</td>\n",
       "      <td>Co-Educational</td>\n",
       "    </tr>\n",
       "    <tr>\n",
       "      <th>1</th>\n",
       "      <td>Western Heights High School</td>\n",
       "      <td>1,180</td>\n",
       "      <td>Year 9-15</td>\n",
       "      <td>Co-Educational</td>\n",
       "    </tr>\n",
       "    <tr>\n",
       "      <th>2</th>\n",
       "      <td>Alfriston College</td>\n",
       "      <td>1,245</td>\n",
       "      <td>Year 9-15</td>\n",
       "      <td>Co-Educational</td>\n",
       "    </tr>\n",
       "  </tbody>\n",
       "</table>\n",
       "</div>"
      ],
      "text/plain": [
       "                   School Name Number of Students Years Level Catered  \\\n",
       "0     Mt Albert Grammar School              3,498           Year 9-15   \n",
       "1  Western Heights High School              1,180           Year 9-15   \n",
       "2            Alfriston College              1,245           Year 9-15   \n",
       "\n",
       "           Gender  \n",
       "0  Co-Educational  \n",
       "1  Co-Educational  \n",
       "2  Co-Educational  "
      ]
     },
     "execution_count": 5,
     "metadata": {},
     "output_type": "execute_result"
    }
   ],
   "source": [
    "# List to store results\n",
    "data = []\n",
    "\n",
    "for pair in urls:\n",
    "    # Profile info\n",
    "    profile_response = scraper.get(pair[\"profile_url\"])\n",
    "    soup_profile = BeautifulSoup(profile_response.text, \"html.parser\")\n",
    "\n",
    "    school_name_element = soup_profile.find(\"div\", id=\"page-heading\").find(\"h1\")\n",
    "    school_name = school_name_element.text.strip() if school_name_element else \"Not Found\"\n",
    "\n",
    "    years_catered_element = soup_profile.find(\"span\", id=\"schoolType\")\n",
    "    years_catered = \"Not Found\"\n",
    "    if years_catered_element:\n",
    "        match = re.search(r\"\\((.*?)\\)\", years_catered_element.text.strip())\n",
    "        if match:\n",
    "            years_catered = match.group(1)\n",
    "\n",
    "    gender_element = soup_profile.find(\"span\", id=\"schoolGender\")\n",
    "    gender_type = gender_element.text.strip() if gender_element else \"Not Found\"\n",
    "\n",
    "    # Number of students\n",
    "    roll_response = scraper.get(pair[\"roll_url\"])\n",
    "    if roll_response.status_code == 200:\n",
    "        soup_roll = BeautifulSoup(roll_response.text, \"html.parser\")\n",
    "        total_row = soup_roll.find(\"td\", string=\"Total\").find_parent(\"tr\")\n",
    "        total_roll = total_row.find_all(\"td\")[-1].text.strip()\n",
    "    else:\n",
    "        total_roll = \"Not Found\"\n",
    "\n",
    "    data.append({\n",
    "        \"School Name\": school_name,\n",
    "        \"Number of Students\": total_roll,\n",
    "        \"Years Level Catered\": years_catered,\n",
    "        \"Gender\": gender_type\n",
    "    })\n",
    "\n",
    "# Display the table\n",
    "df = pd.DataFrame(data)\n",
    "df"
   ]
  },
  {
   "cell_type": "markdown",
   "id": "b60948eb",
   "metadata": {},
   "source": [
    "---"
   ]
  },
  {
   "cell_type": "markdown",
   "id": "ef1be2c9",
   "metadata": {},
   "source": [
    "### Integrating this data to enhance the forecasting model"
   ]
  },
  {
   "cell_type": "markdown",
   "id": "6d91365b",
   "metadata": {},
   "source": [
    "The dataset containing can enhance the forecasting accuracy of the Prophet demand prediction time series model by providing valuable contextual data to refine the predictions for product and size-specific sales. The number of students, such as 3498 for Mt Albert Grammar School, can be used as an external regressor to reflect the potential demand driven by school population size, allowing the model to better capture variations in sales for specific items. Additionally, aligning the model with the \"Years Level Catered\" can help incorporate academic cycles, such as increased demand at the start of the school year, into the seasonality component. While the gender data indicates that all the schools are co-ed, it could still be explored for subtle demand trends since the product lines vary by gender."
   ]
  },
  {
   "cell_type": "markdown",
   "id": "5283d235",
   "metadata": {},
   "source": [
    "---"
   ]
  }
 ],
 "metadata": {
  "kernelspec": {
   "display_name": "Python 3",
   "language": "python",
   "name": "python3"
  },
  "language_info": {
   "codemirror_mode": {
    "name": "ipython",
    "version": 3
   },
   "file_extension": ".py",
   "mimetype": "text/x-python",
   "name": "python",
   "nbconvert_exporter": "python",
   "pygments_lexer": "ipython3",
   "version": "3.11.9"
  }
 },
 "nbformat": 4,
 "nbformat_minor": 5
}
