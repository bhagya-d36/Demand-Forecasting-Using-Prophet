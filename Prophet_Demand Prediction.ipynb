{
 "cells": [
  {
   "cell_type": "markdown",
   "id": "7e7a1171",
   "metadata": {},
   "source": [
    "# Demand Prediction - Prophet"
   ]
  },
  {
   "cell_type": "markdown",
   "id": "c6256ae7",
   "metadata": {},
   "source": [
    "#### Creating a live demand forecasting model for a selected product and size combination\n",
    "##### Note: The code must be run for the interactive plot to work (Use the attached sales_aggregated.csv file as the dataset)"
   ]
  },
  {
   "cell_type": "code",
   "execution_count": 1,
   "id": "6a5bae2c",
   "metadata": {},
   "outputs": [],
   "source": [
    "# Uncomment the following lines if you need to install the required packages\n",
    "\n",
    "# !pip install prophet\n",
    "# !pip install ipywidgets\n",
    "# !pip install plotly"
   ]
  },
  {
   "cell_type": "code",
   "execution_count": 2,
   "id": "75132600",
   "metadata": {},
   "outputs": [],
   "source": [
    "# Required imports\n",
    "import pandas as pd\n",
    "import numpy as np\n",
    "import matplotlib.pyplot as plt\n",
    "import seaborn as sns\n",
    "from prophet import Prophet\n",
    "import ipywidgets as widgets\n",
    "from IPython.display import display, clear_output\n",
    "from sklearn.metrics import mean_squared_error, mean_absolute_error, r2_score"
   ]
  },
  {
   "cell_type": "code",
   "execution_count": null,
   "id": "69d9b1d1",
   "metadata": {},
   "outputs": [
    {
     "data": {
      "text/html": [
       "<div>\n",
       "<style scoped>\n",
       "    .dataframe tbody tr th:only-of-type {\n",
       "        vertical-align: middle;\n",
       "    }\n",
       "\n",
       "    .dataframe tbody tr th {\n",
       "        vertical-align: top;\n",
       "    }\n",
       "\n",
       "    .dataframe thead th {\n",
       "        text-align: right;\n",
       "    }\n",
       "</style>\n",
       "<table border=\"1\" class=\"dataframe\">\n",
       "  <thead>\n",
       "    <tr style=\"text-align: right;\">\n",
       "      <th></th>\n",
       "      <th>Product</th>\n",
       "      <th>Size</th>\n",
       "      <th>Month</th>\n",
       "      <th>Sales</th>\n",
       "    </tr>\n",
       "  </thead>\n",
       "  <tbody>\n",
       "    <tr>\n",
       "      <th>0</th>\n",
       "      <td>ALF Boys Ink Trousers</td>\n",
       "      <td>100</td>\n",
       "      <td>2022-01-01</td>\n",
       "      <td>6.0</td>\n",
       "    </tr>\n",
       "    <tr>\n",
       "      <th>1</th>\n",
       "      <td>ALF Boys Ink Trousers</td>\n",
       "      <td>100</td>\n",
       "      <td>2022-02-01</td>\n",
       "      <td>7.0</td>\n",
       "    </tr>\n",
       "    <tr>\n",
       "      <th>2</th>\n",
       "      <td>ALF Boys Ink Trousers</td>\n",
       "      <td>100</td>\n",
       "      <td>2022-03-01</td>\n",
       "      <td>1.0</td>\n",
       "    </tr>\n",
       "    <tr>\n",
       "      <th>3</th>\n",
       "      <td>ALF Boys Ink Trousers</td>\n",
       "      <td>100</td>\n",
       "      <td>2022-04-01</td>\n",
       "      <td>0.0</td>\n",
       "    </tr>\n",
       "    <tr>\n",
       "      <th>4</th>\n",
       "      <td>ALF Boys Ink Trousers</td>\n",
       "      <td>100</td>\n",
       "      <td>2022-05-01</td>\n",
       "      <td>1.0</td>\n",
       "    </tr>\n",
       "    <tr>\n",
       "      <th>...</th>\n",
       "      <td>...</td>\n",
       "      <td>...</td>\n",
       "      <td>...</td>\n",
       "      <td>...</td>\n",
       "    </tr>\n",
       "    <tr>\n",
       "      <th>19839</th>\n",
       "      <td>WHHS Snr Trouser</td>\n",
       "      <td>96</td>\n",
       "      <td>2025-01-01</td>\n",
       "      <td>6.0</td>\n",
       "    </tr>\n",
       "    <tr>\n",
       "      <th>19840</th>\n",
       "      <td>WHHS Snr Trouser</td>\n",
       "      <td>96</td>\n",
       "      <td>2025-02-01</td>\n",
       "      <td>5.0</td>\n",
       "    </tr>\n",
       "    <tr>\n",
       "      <th>19841</th>\n",
       "      <td>WHHS Snr Trouser</td>\n",
       "      <td>96</td>\n",
       "      <td>2025-03-01</td>\n",
       "      <td>2.0</td>\n",
       "    </tr>\n",
       "    <tr>\n",
       "      <th>19842</th>\n",
       "      <td>WHHS Snr Trouser</td>\n",
       "      <td>96</td>\n",
       "      <td>2025-04-01</td>\n",
       "      <td>0.0</td>\n",
       "    </tr>\n",
       "    <tr>\n",
       "      <th>19843</th>\n",
       "      <td>WHHS Snr Trouser</td>\n",
       "      <td>96</td>\n",
       "      <td>2025-05-01</td>\n",
       "      <td>2.0</td>\n",
       "    </tr>\n",
       "  </tbody>\n",
       "</table>\n",
       "<p>19844 rows × 4 columns</p>\n",
       "</div>"
      ],
      "text/plain": [
       "                     Product Size       Month  Sales\n",
       "0      ALF Boys Ink Trousers  100  2022-01-01    6.0\n",
       "1      ALF Boys Ink Trousers  100  2022-02-01    7.0\n",
       "2      ALF Boys Ink Trousers  100  2022-03-01    1.0\n",
       "3      ALF Boys Ink Trousers  100  2022-04-01    0.0\n",
       "4      ALF Boys Ink Trousers  100  2022-05-01    1.0\n",
       "...                      ...  ...         ...    ...\n",
       "19839       WHHS Snr Trouser   96  2025-01-01    6.0\n",
       "19840       WHHS Snr Trouser   96  2025-02-01    5.0\n",
       "19841       WHHS Snr Trouser   96  2025-03-01    2.0\n",
       "19842       WHHS Snr Trouser   96  2025-04-01    0.0\n",
       "19843       WHHS Snr Trouser   96  2025-05-01    2.0\n",
       "\n",
       "[19844 rows x 4 columns]"
      ]
     },
     "execution_count": 3,
     "metadata": {},
     "output_type": "execute_result"
    }
   ],
   "source": [
    "# Loading the dataset\n",
    "df = pd.read_csv('sales_aggregated.csv')\n",
    "df"
   ]
  },
  {
   "cell_type": "markdown",
   "id": "05885025",
   "metadata": {},
   "source": [
    "### Prophet Implementation"
   ]
  },
  {
   "cell_type": "markdown",
   "id": "e1f070c2",
   "metadata": {},
   "source": [
    "##### Demand forecasting function"
   ]
  },
  {
   "cell_type": "code",
   "execution_count": null,
   "id": "12038baf",
   "metadata": {},
   "outputs": [],
   "source": [
    "# Function to forecast demand using Prophet\n",
    "\n",
    "def forecast_demand(df, product, size, forecast_periods=6):\n",
    "    # Ensure 'Month' is in datetime format\n",
    "    df['Month'] = pd.to_datetime(df['Month'], errors='coerce')\n",
    "\n",
    "    # Filter and prepare data\n",
    "    df_subset = df[(df['Product'] == product) & (df['Size'] == size)][['Month', 'Sales']]\n",
    "    df_subset = df_subset.rename(columns={'Month': 'ds', 'Sales': 'y'})\n",
    "\n",
    "    # Build and fit the model\n",
    "    model = Prophet(yearly_seasonality=True, weekly_seasonality=False, daily_seasonality=False)\n",
    "    model.fit(df_subset)\n",
    "\n",
    "    # Create future dataframe and generate forecast\n",
    "    future = model.make_future_dataframe(periods=forecast_periods, freq='ME')\n",
    "    forecast = model.predict(future)\n",
    "\n",
    "    # Merge for evaluation\n",
    "    forecast_full = forecast[['ds', 'yhat']].merge(df_subset, on='ds', how='left')\n",
    "    forecast_train = forecast_full[forecast_full['y'].notnull()]\n",
    "\n",
    "    # Evaluation metrics\n",
    "    y_true, y_pred = forecast_train['y'], forecast_train['yhat']\n",
    "    mse = mean_squared_error(y_true, y_pred)\n",
    "    rmse = np.sqrt(mse)\n",
    "    mae = mean_absolute_error(y_true, y_pred)\n",
    "    r2 = r2_score(y_true, y_pred)\n",
    "\n",
    "    # Display metrics\n",
    "    print(f\"Evaluation Metrics for {product} ({size}):\")\n",
    "    print(f\"  R-squared: {r2:.4f}\")\n",
    "    print(f\"  MSE:       {mse:.2f}\")\n",
    "    print(f\"  RMSE:      {rmse:.2f}\")\n",
    "    print(f\"  MAE:       {mae:.2f}\")\n",
    "\n",
    "    # Plot forecast and components\n",
    "    model.plot(forecast)\n",
    "    plt.title(f\"Prophet Forecast - {product} ({size})\")\n",
    "    plt.show()\n",
    "\n",
    "    model.plot_components(forecast)\n",
    "    plt.show()"
   ]
  },
  {
   "cell_type": "markdown",
   "id": "002e7056",
   "metadata": {},
   "source": [
    "##### Funtion to create a plot for forecasted values only"
   ]
  },
  {
   "cell_type": "code",
   "execution_count": null,
   "id": "1bc49a84",
   "metadata": {},
   "outputs": [],
   "source": [
    "# Function to plot forecasted values only\n",
    "\n",
    "def plot_forecasted_values_only(df, product, size, forecast_periods=6):\n",
    "    df_subset = df[(df['Product'] == product) & (df['Size'] == size)][['Month', 'Sales']]\n",
    "    df_subset = df_subset.rename(columns={'Month': 'ds', 'Sales': 'y'})\n",
    "\n",
    "    model = Prophet(yearly_seasonality=True, weekly_seasonality=False, daily_seasonality=False)\n",
    "    model.fit(df_subset)\n",
    "\n",
    "    future = model.make_future_dataframe(periods=forecast_periods, freq='ME')\n",
    "    forecast = model.predict(future)\n",
    "\n",
    "    forecast_future = forecast.tail(forecast_periods)\n",
    "\n",
    "    plt.figure(figsize=(8, 4))\n",
    "    plt.plot(forecast_future['ds'], forecast_future['yhat'], marker='o', color='orange')\n",
    "    plt.title(f\"Forecasted Sales Only - {product} ({size})\")\n",
    "    plt.xlabel(\"Month\")\n",
    "    plt.ylabel(\"Forecasted Sales\")\n",
    "    plt.grid(True)\n",
    "    plt.show()"
   ]
  },
  {
   "cell_type": "markdown",
   "id": "02cbeb36",
   "metadata": {},
   "source": [
    "##### Interactive Plot - Select the necessary product & size combination \n",
    "###### (The code should be run to use the interactive display)"
   ]
  },
  {
   "cell_type": "code",
   "execution_count": 6,
   "id": "07362c40",
   "metadata": {},
   "outputs": [
    {
     "data": {
      "application/vnd.jupyter.widget-view+json": {
       "model_id": "25d5e49438424f0f9e135862678ab7ee",
       "version_major": 2,
       "version_minor": 0
      },
      "text/plain": [
       "Dropdown(description='Product:', options=('ALF Boys Ink Trousers', 'ALF Jacket', 'ALF Jnr Blouse', 'ALF Jnr Sh…"
      ]
     },
     "metadata": {},
     "output_type": "display_data"
    },
    {
     "data": {
      "application/vnd.jupyter.widget-view+json": {
       "model_id": "4bd2f1d9dfd840308a37917ef8f42c55",
       "version_major": 2,
       "version_minor": 0
      },
      "text/plain": [
       "Dropdown(description='Size:', options=('100', '104', '108', '112', '116', '120', '124', '128', '152', '64', '6…"
      ]
     },
     "metadata": {},
     "output_type": "display_data"
    },
    {
     "data": {
      "application/vnd.jupyter.widget-view+json": {
       "model_id": "240d14719c9b475fa1622843cbace3d8",
       "version_major": 2,
       "version_minor": 0
      },
      "text/plain": [
       "Output()"
      ]
     },
     "execution_count": 6,
     "metadata": {},
     "output_type": "execute_result"
    }
   ],
   "source": [
    "# Display Plotly interactive widgets for product and size selection\n",
    "product_dropdown = widgets.Dropdown(\n",
    "    options=sorted(df['Product'].unique()),\n",
    "    description=\"Product:\"\n",
    ")\n",
    "\n",
    "size_dropdown = widgets.Dropdown(description=\"Size:\")\n",
    "\n",
    "def update_size_options(*args):\n",
    "    selected_product = product_dropdown.value\n",
    "    sizes = sorted(df[df['Product'] == selected_product]['Size'].unique())\n",
    "    size_dropdown.options = sizes\n",
    "    if sizes:\n",
    "        size_dropdown.value = sizes[0]\n",
    "\n",
    "product_dropdown.observe(update_size_options, names='value')\n",
    "update_size_options()\n",
    "\n",
    "display(product_dropdown, size_dropdown)\n",
    "\n",
    "def update_forecast(product, size):\n",
    "    forecast_demand(df, product, size)\n",
    "    plot_forecasted_values_only(df, product, size)\n",
    "\n",
    "widgets.interactive_output(update_forecast, {\n",
    "    'product': product_dropdown,\n",
    "    'size': size_dropdown\n",
    "})"
   ]
  },
  {
   "cell_type": "markdown",
   "id": "1029aa4e",
   "metadata": {},
   "source": [
    "---"
   ]
  }
 ],
 "metadata": {
  "kernelspec": {
   "display_name": "Python 3",
   "language": "python",
   "name": "python3"
  },
  "language_info": {
   "codemirror_mode": {
    "name": "ipython",
    "version": 3
   },
   "file_extension": ".py",
   "mimetype": "text/x-python",
   "name": "python",
   "nbconvert_exporter": "python",
   "pygments_lexer": "ipython3",
   "version": "3.11.9"
  }
 },
 "nbformat": 4,
 "nbformat_minor": 5
}
